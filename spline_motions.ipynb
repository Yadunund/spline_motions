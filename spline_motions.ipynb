{
 "cells": [
  {
   "cell_type": "code",
   "execution_count": 19,
   "metadata": {},
   "outputs": [],
   "source": [
    "\n",
    "\n",
    "def compute_coefficients(initial_position, final_position, initial_velocity, final_velocity, initial_time, final_time):\n",
    "    ### This function takes a list of dictionaries representing knots of segments in a trajectory\n",
    "    ### It returns a dictionary containing the a,b,c,d coefficients of the x, y, and th spline-motion between two segments\n",
    "\n",
    "    ### x(t) = a*t^3 + b*t^2 + c*t + d \n",
    "    ### y(t) = a*t^3 + b*t^2 + c*t + d \n",
    "    ### th(t) = aa*t^3 + b*t^2 + c*t + d\n",
    "    ### t is in nanoseconds to work directly with rmf_traffic::Time \n",
    "    \n",
    "    x0 = initial_position\n",
    "    x1 = final_position\n",
    "    v0 = (final_time-initial_time)*initial_velocity\n",
    "    v1 = (final_time-initial_time)*final_velocity\n",
    "    \n",
    "    a = v1 + v0 -2*x1 + 2*x0\n",
    "    b = -v1 - 2*v0 +3*x1 -3*x0\n",
    "    c = v0\n",
    "    d = x0\n",
    "    \n",
    "    return [a,b,c,d]\n",
    "\n",
    "    \n",
    "\n",
    "\n",
    "def get_coefficients(segment_knots):\n",
    "    for i in range(len(segment_knots)):\n",
    "        print(i)\n"
   ]
  },
  {
   "cell_type": "code",
   "execution_count": 20,
   "metadata": {},
   "outputs": [],
   "source": [
    "#! usr/bin/env python3\n",
    "\n",
    "#All units in SI unless specified \n",
    "\n",
    "\n",
    "\n",
    "\n",
    "\n",
    "\n",
    "#time is passed in nanoseconds \n",
    "time_now = 110773622239122\n",
    "duration_in_sec = 10\n",
    "time_later = time_now + 10^9 * duration_in_sec; \n",
    "knots = [ {\"x\":[-5,0,0],\"v\": [0,0,0],\"t\":time_now} , {\"x\":[5,0,0], \"v\": [0,0,0], \"t\":time_later} ]"
   ]
  },
  {
   "cell_type": "code",
   "execution_count": 21,
   "metadata": {},
   "outputs": [
    {
     "name": "stdout",
     "output_type": "stream",
     "text": [
      "0\n",
      "1\n"
     ]
    }
   ],
   "source": [
    "get_coefficients(segment_knots)"
   ]
  },
  {
   "cell_type": "code",
   "execution_count": 22,
   "metadata": {},
   "outputs": [
    {
     "data": {
      "text/plain": [
       "[10, -15, 0, 5]"
      ]
     },
     "execution_count": 22,
     "metadata": {},
     "output_type": "execute_result"
    }
   ],
   "source": [
    "compute_coefficients(5,0,0,0,23,25)"
   ]
  },
  {
   "cell_type": "code",
   "execution_count": null,
   "metadata": {},
   "outputs": [],
   "source": []
  }
 ],
 "metadata": {
  "kernelspec": {
   "display_name": "Python 3",
   "language": "python",
   "name": "python3"
  },
  "language_info": {
   "codemirror_mode": {
    "name": "ipython",
    "version": 3
   },
   "file_extension": ".py",
   "mimetype": "text/x-python",
   "name": "python",
   "nbconvert_exporter": "python",
   "pygments_lexer": "ipython3",
   "version": "3.6.8"
  }
 },
 "nbformat": 4,
 "nbformat_minor": 4
}
