{
 "cells": [
  {
   "cell_type": "code",
   "execution_count": 44,
   "metadata": {},
   "outputs": [],
   "source": [
    "def compute_coefficients(initial_position, final_position, initial_velocity, final_velocity, initial_time, final_time):\n",
    "    td = final_time-initial_time\n",
    "    x0 = initial_position\n",
    "    x1 = final_position\n",
    "    v0 = initial_velocity\n",
    "    v1 = final_velocity\n",
    "    w0 = v0/td\n",
    "    w1 = v1/td\n",
    "    \n",
    "    a = w1 + w0 -2*x1 + 2*x0\n",
    "    b = -w1 - 2*w0 +3*x1 -3*x0\n",
    "    c = w0\n",
    "    d = x0\n",
    "    \n",
    "    return [a,b,c,d]\n",
    "\n",
    "def get_spline_coefficients(knots):\n",
    "    '''\n",
    "    This function takes a list of dictionaries representing knots of segments in a trajectory.\n",
    "    It returns a list of dictionaries containing the a,b,c,d coefficients of the \n",
    "    x, y and th spline-motions between successive knots\n",
    "    \n",
    "    x(t) = a_x*s(t)^3 + b_x*s(t)^2 + c_x*s(t) + d_x \n",
    "    y(t) = a_y*s(t)^3 + b_y*s(t)^2 + c_y*s(t) + d_x \n",
    "    th(t) = a_th*s(t)^3 + b_th*s(t)^2 + c_th*s(t) + d_x \n",
    "\n",
    "    s(t) = (t- t_i)/(t_f - t_i)\n",
    "    t, t_i and t_f are all in same units \n",
    "    \n",
    "    Example knots\n",
    "    knots = [ {\"x\":[5,8,0],\"v\": [1,0,0],\"t\":0} , {\"x\":[0,0,0], \"v\": [0,0,0], \"t\":10} ]\n",
    "\n",
    "    '''\n",
    "    coefficients = []\n",
    "    for i in range(len(knots)-1):\n",
    "        d = {}\n",
    "        knot_i = knots[i]\n",
    "        knot_f = knots[i+1]\n",
    "        x_coeffs = compute_coefficients(knot_i[\"x\"][0], knot_f[\"x\"][0], knot_i[\"v\"][0], knot_f[\"v\"][0], knot_i[\"t\"], knot_f[\"t\"])\n",
    "        y_coeffs = compute_coefficients(knot_i[\"x\"][1], knot_f[\"x\"][1], knot_i[\"v\"][1], knot_f[\"v\"][1], knot_i[\"t\"], knot_f[\"t\"])\n",
    "        th_coeffs = compute_coefficients(knot_i[\"x\"][2], knot_f[\"x\"][2], knot_i[\"v\"][2], knot_f[\"v\"][2], knot_i[\"t\"], knot_f[\"t\"])\n",
    "        \n",
    "        d[\"x_coeffs\"] = x_coeffs\n",
    "        d[\"y_coeffs\"] = y_coeffs\n",
    "        d[\"th_coeffs\"] = th_coeffs\n",
    "        d[\"t_i\"] = knot_i[\"t\"]\n",
    "        d[\"t_f\"] = knot_f[\"t\"]\n",
    "        \n",
    "        coefficients.append(d)\n",
    "        \n",
    "    return coefficients\n",
    "        \n",
    "def st(t, t_i,t_f):\n",
    "    return (t-t_i)/(t_f-t_i)\n",
    "\n",
    "def get_position(t, coefficients):\n",
    "    spline_index = -1\n",
    "    for coeff in coefficients:\n",
    "        if (t>=coeff[\"t_i\"] and t<=coeff[\"t_f\"]):\n",
    "            spline_index = coefficients.index(coeff)\n",
    "    \n",
    "    if(spline_index!=-1):\n",
    "        x_coeff = coefficients[spline_index][\"x_coeffs\"]\n",
    "        y_coeff = coefficients[spline_index][\"y_coeffs\"]\n",
    "        th_coeff = coefficients[spline_index][\"th_coeffs\"]\n",
    "        t_i = coefficients[spline_index][\"t_i\"]\n",
    "        t_f = coefficients[spline_index][\"t_f\"]\n",
    "    else:\n",
    "        return -1;\n",
    "    \n",
    "    t= st(t,t_i,t_f)    \n",
    "    x = x_coeff[0]*(t**3) + x_coeff[1]*(t**2) + x_coeff[2]*(t) + x_coeff[3]\n",
    "    y = y_coeff[0]*(t**3) + y_coeff[1]*(t**2) + y_coeff[2]*(t) + y_coeff[3]\n",
    "    th = th_coeff[0]*(t**3) + th_coeff[1]*(t**2) + th_coeff[2]*(t) + th_coeff[3]\n",
    "    \n",
    "    return [x,y,th]\n",
    "\n",
    "\n",
    "def bezier_helper_function(coeffs):\n",
    "    assert len(coeffs) == 4\n",
    "    a = coeffs[0]\n",
    "    b = coeffs[1]\n",
    "    c = coeffs[2]\n",
    "    d = coeffs[3]\n",
    "    p0 = d\n",
    "    p1 = (c + 3*p0) / 3\n",
    "    p2 = (b - 3*p0 + 6*p1) / 3\n",
    "    p3 = a + p0 - 3*p1 + 3*p2\n",
    "    \n",
    "    return [p0, p1, p2, p3]\n",
    "\n",
    "def get_bezier_control_points(segment_coefficients):\n",
    "    px = bezier_helper_function(segment_coefficients['x_coeffs'])\n",
    "    py = bezier_helper_function(segment_coefficients['y_coeffs'])\n",
    "    return list(zip(px, py))\n",
    "    \n",
    "    "
   ]
  },
  {
   "cell_type": "code",
   "execution_count": 45,
   "metadata": {},
   "outputs": [],
   "source": [
    "#! usr/bin/env python3\n",
    "\n",
    "#time is passed in nanoseconds \n",
    "time_1 = 110773622239122\n",
    "duration_in_sec = 400\n",
    "time_2 = time_1 + (10**9) * duration_in_sec; \n",
    "knots = [ {\"x\":[-5,0,0],\"v\": [-1,0,0],\"t\":time_1} , {\"x\":[0,-5,0], \"v\": [0,-1,0], \"t\":time_2} ]\n",
    "spline_coefficients = get_spline_coefficients(knots)\n"
   ]
  },
  {
   "cell_type": "code",
   "execution_count": 46,
   "metadata": {},
   "outputs": [
    {
     "data": {
      "text/plain": [
       "[(-5, 0),\n",
       " (-5.000000000000833, 0.0),\n",
       " (1.1842378929335002e-15, -4.999999999999167),\n",
       " (3.552713678800501e-15, -5.0)]"
      ]
     },
     "execution_count": 46,
     "metadata": {},
     "output_type": "execute_result"
    }
   ],
   "source": [
    "get_bezier_control_points(spline_coefficients[0])"
   ]
  },
  {
   "cell_type": "code",
   "execution_count": null,
   "metadata": {},
   "outputs": [],
   "source": []
  }
 ],
 "metadata": {
  "kernelspec": {
   "display_name": "Python 3",
   "language": "python",
   "name": "python3"
  },
  "language_info": {
   "codemirror_mode": {
    "name": "ipython",
    "version": 3
   },
   "file_extension": ".py",
   "mimetype": "text/x-python",
   "name": "python",
   "nbconvert_exporter": "python",
   "pygments_lexer": "ipython3",
   "version": "3.6.9"
  }
 },
 "nbformat": 4,
 "nbformat_minor": 4
}
